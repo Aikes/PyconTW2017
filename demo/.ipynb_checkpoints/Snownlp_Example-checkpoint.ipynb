{
 "cells": [
  {
   "cell_type": "code",
   "execution_count": 1,
   "metadata": {
    "collapsed": true
   },
   "outputs": [],
   "source": [
    "# -*- coding: utf-8 -*-\n",
    "import pandas as pd\n",
    "from snownlp import SnowNLP\n",
    "from snownlp import sentiment\n",
    "from snownlp import seg"
   ]
  },
  {
   "cell_type": "code",
   "execution_count": 2,
   "metadata": {},
   "outputs": [
    {
     "name": "stdout",
     "output_type": "stream",
     "text": [
      "空軍\n",
      "弟兄\n",
      "升空\n",
      "了\n",
      "阿\n"
     ]
    }
   ],
   "source": [
    "#分詞範例\n",
    "text=u\"空軍弟兄升空了阿\"\n",
    "s=SnowNLP(text)\n",
    "for x in s.words:\n",
    "    print x"
   ]
  },
  {
   "cell_type": "code",
   "execution_count": 3,
   "metadata": {},
   "outputs": [
    {
     "name": "stdout",
     "output_type": "stream",
     "text": [
      "0.308134964824\n"
     ]
    }
   ],
   "source": [
    "#情緒分析看跌案例\n",
    "text1=u\"空軍弟兄升空了阿\"\n",
    "s1=SnowNLP(text1)\n",
    "print s1.sentiments"
   ]
  },
  {
   "cell_type": "code",
   "execution_count": 4,
   "metadata": {},
   "outputs": [
    {
     "name": "stdout",
     "output_type": "stream",
     "text": [
      "0.997056811308\n"
     ]
    }
   ],
   "source": [
    "#情緒分析看漲案例\n",
    "text2=u\"今天進場20張，已賺2塊，明日再漲2塊就下車\"\n",
    "s2=SnowNLP(text2)\n",
    "print s2.sentiments"
   ]
  }
 ],
 "metadata": {
  "kernelspec": {
   "display_name": "Python 2",
   "language": "python",
   "name": "python2"
  },
  "language_info": {
   "codemirror_mode": {
    "name": "ipython",
    "version": 2
   },
   "file_extension": ".py",
   "mimetype": "text/x-python",
   "name": "python",
   "nbconvert_exporter": "python",
   "pygments_lexer": "ipython2",
   "version": "2.7.13"
  }
 },
 "nbformat": 4,
 "nbformat_minor": 2
}
