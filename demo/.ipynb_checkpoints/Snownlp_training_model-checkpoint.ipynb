{
 "cells": [
  {
   "cell_type": "code",
   "execution_count": 2,
   "metadata": {},
   "outputs": [],
   "source": [
    "# -*- coding: utf-8 -*-\n",
    "import pandas as pd\n",
    "from snownlp import SnowNLP\n",
    "from snownlp import sentiment\n",
    "from snownlp import seg"
   ]
  },
  {
   "cell_type": "code",
   "execution_count": 3,
   "metadata": {
    "collapsed": true
   },
   "outputs": [],
   "source": [
    "#噓文需要跟主文章相反，中立文本變成零分的轉換副程式\n",
    "def change_score(tag,word):\n",
    "    if '噓' in tag:\n",
    "        if word==1:\n",
    "            return -1\n",
    "        if word==-1:\n",
    "            return 1\n",
    "    if '→' in tag:\n",
    "        return 0\n",
    "    return word"
   ]
  },
  {
   "cell_type": "code",
   "execution_count": 5,
   "metadata": {},
   "outputs": [],
   "source": [
    "#讀取六月到十二月熱門文章的回文，並做資料處理\n",
    "message_hot=pd.read_csv(\"../data/hot_push.txt\")\n",
    "message_hot['content']=message_hot['content'].apply(lambda x:x.replace(\":\",\"\"))\n",
    "message_hot=message_hot[['link','content','tag','author','time']]\n",
    "\n",
    "#讀取六月到十二月熱門文章貼標\n",
    "hot_article_score=pd.read_csv('../data/hot_article_tag_by_hand.csv')\n",
    "hot_article_score=hot_article_score[['link','score']]\n",
    "\n",
    "#將熱門文章回文進行分數轉換，將轉換分數完的結果，分成看漲文本hot_up、看跌文本hot_down，做為訓練集資料的產生\n",
    "hot_message_score=pd.merge(message_hot,hot_article_score,how='left',on='link')\n",
    "hot_message_score['new']=hot_message_score.apply(lambda x: change_score(x['tag'], x['score']), axis=1)\n",
    "hot_final_score=hot_message_score[['author','time','content','new','tag']]\n",
    "hot_up=hot_final_score[hot_final_score['new']==1]\n",
    "hot_up=hot_up['content']\n",
    "hot_down=hot_final_score[hot_final_score['new']==-1]\n",
    "hot_down=hot_down['content']"
   ]
  },
  {
   "cell_type": "code",
   "execution_count": 7,
   "metadata": {},
   "outputs": [],
   "source": [
    "#讀取六月到十二月凱衛的回文\n",
    "message=pd.read_csv(\"../data/5201_push.csv\")\n",
    "message=message[['link','content','tag','author','time']]\n",
    "\n",
    "#讀取六月到十二月凱衛文章貼標\n",
    "article_score=pd.read_csv('../data/5201_article_by_hand.csv')\n",
    "article_score=article_score[['link','score']]\n",
    "\n",
    "#將熱門文章回文進行分數轉換，將轉換分數完的結果，最後data_set的名稱是final_score\n",
    "message_score=pd.merge(message,article_score,how='left',on='link')\n",
    "message_score['new']=message_score.apply(lambda x: change_score(x['tag'], x['score']), axis=1)\n",
    "final_score=message_score[['author','time','content','new','tag']]\n",
    "\n",
    "#將凱衛看漲文本80%和熱門回文垂直合併，產生最後的訓練集up_train.txt\n",
    "up=final_score[final_score['new']==1]\n",
    "up_stop=(len(up)/5)*4\n",
    "up_train=up[0:up_stop]\n",
    "up_end=up[up_stop:len(up)]\n",
    "up_train=up_train['content']\n",
    "up_train=pd.concat([hot_up,up_train])\n",
    "up_train.to_csv('../outcome/up_train.txt',index=None,header=None)\n",
    "#將凱衛看跌文本80%和熱門回文垂直合併，產生最後的訓練集down_train.txt\n",
    "down=final_score[final_score['new']==-1]\n",
    "down_stop=(len(down)/5)*4\n",
    "down_train=down[0:down_stop]\n",
    "down_end=down[down_stop:len(down)]\n",
    "down_train=down_train['content']\n",
    "down_train=pd.concat([down_train,hot_down])\n",
    "down_train.to_csv('../outcome/down_train.txt',index=None,header=None)\n",
    "\n",
    "#將剩下看漲與看跌的文本，合併成最後測驗的資料集\n",
    "verification=pd.concat([up_end,down_end])"
   ]
  },
  {
   "cell_type": "code",
   "execution_count": 9,
   "metadata": {},
   "outputs": [],
   "source": [
    "sentiment.train(r'../outcome/down_train.txt',\n",
    "                r'../outcome/up_train.txt')\n",
    "#這邊要根據作業系統安裝的位置調整\n",
    "sentiment.save(r'/usr/local/lib/python2.7/site-packages/snownlp/sentiment/sentiment.marshal')"
   ]
  },
  {
   "cell_type": "code",
   "execution_count": 10,
   "metadata": {
    "collapsed": true
   },
   "outputs": [],
   "source": [
    "#套用情緒分析模型計算分數\n",
    "def model(x):\n",
    "    s=SnowNLP(str(x).decode('utf-8'))\n",
    "    return s.sentiments\n",
    "verification['nlp_score']=verification['content'].apply(model)"
   ]
  },
  {
   "cell_type": "code",
   "execution_count": 11,
   "metadata": {
    "collapsed": true
   },
   "outputs": [],
   "source": [
    "#只要大於0.5就算是看漲，小於0.5就是看跌，等於0.5中立代表不預測\n",
    "def convert(x):\n",
    "    if x>0.51:\n",
    "        return 1\n",
    "    if x==0.5:\n",
    "        return 0\n",
    "    if x<=0.49:\n",
    "        return -1\n",
    "verification['convert']=verification['nlp_score'].apply(convert)"
   ]
  },
  {
   "cell_type": "code",
   "execution_count": 12,
   "metadata": {},
   "outputs": [
    {
     "name": "stdout",
     "output_type": "stream",
     "text": [
      "涵蓋率0.244131455399\n",
      "精準度0.536082474227\n",
      "涵蓋率0.813793103448\n",
      "精準度0.60824742268\n",
      "----------------------------------------------------------------\n",
      "整體涵蓋率0.572564612326\n",
      "整體精確率0.59381443299\n"
     ]
    }
   ],
   "source": [
    "#計算命中率\n",
    "def hit(x,y):\n",
    "    if x==y:\n",
    "        return 1\n",
    "    if x != y:\n",
    "        return 0\n",
    "\n",
    "verification['hit'] = verification.apply(lambda x: hit(x['new'], x['convert']), axis=1)\n",
    "\n",
    "#計算所有上漲的文本數量\n",
    "all_up=verification.loc[verification['new']==1]\n",
    "#計算預測上漲的文本數量\n",
    "model_up=verification.loc[verification['convert']==1]\n",
    "#有猜中上漲的文本數量\n",
    "hit_up=verification[(verification['hit']==1) & (verification['new']==1)]\n",
    "#預測上漲涵蓋率\n",
    "print \"涵蓋率\"+str(float(len(hit_up))/len(all_up))\n",
    "#預測上漲精準度\n",
    "print \"精準度\"+str(float(len(hit_up))/len(model_up))\n",
    "\n",
    "\n",
    "#計算所有下跌的文本數量\n",
    "all_down=verification.loc[verification['new']==-1]\n",
    "#計算預測下跌的文本數量\n",
    "model_down=verification.loc[verification['convert']==-1]\n",
    "#有猜中下跌的文本數量\n",
    "hit_down=verification[(verification['hit']==1) & (verification['new']==-1)]\n",
    "#預測下跌涵蓋率\n",
    "print \"涵蓋率\"+str(float(len(hit_down))/len(all_down))\n",
    "#預測下跌精準度\n",
    "print \"精準度\"+str(float(len(hit_down))/len(model_down))\n",
    "\n",
    "print '----------------------------------------------------------------'\n",
    "#整體涵蓋率\n",
    "print '整體涵蓋率'+str(float((len(hit_down))+len(hit_up))/(len(all_down)+(len(all_up))))\n",
    "#整體精確度\n",
    "print '整體精確率'+str(float((len(hit_down))+len(hit_up))/(len(model_down)+(len(model_up))))"
   ]
  }
 ],
 "metadata": {
  "kernelspec": {
   "display_name": "Python 2",
   "language": "python",
   "name": "python2"
  },
  "language_info": {
   "codemirror_mode": {
    "name": "ipython",
    "version": 2
   },
   "file_extension": ".py",
   "mimetype": "text/x-python",
   "name": "python",
   "nbconvert_exporter": "python",
   "pygments_lexer": "ipython2",
   "version": "2.7.13"
  }
 },
 "nbformat": 4,
 "nbformat_minor": 2
}
