{
 "cells": [
  {
   "cell_type": "code",
   "execution_count": 1,
   "metadata": {
    "collapsed": true
   },
   "outputs": [],
   "source": [
    "import pandas as pd"
   ]
  },
  {
   "cell_type": "code",
   "execution_count": 7,
   "metadata": {
    "collapsed": true
   },
   "outputs": [],
   "source": [
    "import gc"
   ]
  },
  {
   "cell_type": "code",
   "execution_count": 8,
   "metadata": {},
   "outputs": [
    {
     "data": {
      "text/plain": [
       "28"
      ]
     },
     "execution_count": 8,
     "metadata": {},
     "output_type": "execute_result"
    }
   ],
   "source": [
    "gc.collect()"
   ]
  },
  {
   "cell_type": "code",
   "execution_count": 3,
   "metadata": {
    "collapsed": true
   },
   "outputs": [],
   "source": [
    "article = pd.read_csv('../data/ptt_article.csv',encoding='utf-8')\n",
    "push = pd.read_csv('../data/ptt_push.csv',encoding='utf-8')"
   ]
  },
  {
   "cell_type": "code",
   "execution_count": 4,
   "metadata": {
    "collapsed": true
   },
   "outputs": [],
   "source": [
    "article = article.drop(['score','content_score'],axis=1)\n",
    "push = push.drop(['score'],axis=1)"
   ]
  },
  {
   "cell_type": "code",
   "execution_count": 5,
   "metadata": {
    "collapsed": true
   },
   "outputs": [],
   "source": [
    "article.to_csv('../data/ptt_article.csv',encoding='utf-8',index=False)\n",
    "push.to_csv('../data/ptt_push.csv',encoding='utf-8',index=False)"
   ]
  },
  {
   "cell_type": "code",
   "execution_count": 6,
   "metadata": {
    "collapsed": true
   },
   "outputs": [],
   "source": [
    "del article\n",
    "del push"
   ]
  },
  {
   "cell_type": "code",
   "execution_count": 12,
   "metadata": {},
   "outputs": [
    {
     "name": "stdout",
     "output_type": "stream",
     "text": [
      "(2310, 5)\n"
     ]
    },
    {
     "data": {
      "text/html": [
       "<div>\n",
       "<style>\n",
       "    .dataframe thead tr:only-child th {\n",
       "        text-align: right;\n",
       "    }\n",
       "\n",
       "    .dataframe thead th {\n",
       "        text-align: left;\n",
       "    }\n",
       "\n",
       "    .dataframe tbody tr th {\n",
       "        vertical-align: top;\n",
       "    }\n",
       "</style>\n",
       "<table border=\"1\" class=\"dataframe\">\n",
       "  <thead>\n",
       "    <tr style=\"text-align: right;\">\n",
       "      <th></th>\n",
       "      <th>author</th>\n",
       "      <th>dt</th>\n",
       "      <th>link</th>\n",
       "      <th>line</th>\n",
       "      <th>支持走向</th>\n",
       "    </tr>\n",
       "  </thead>\n",
       "  <tbody>\n",
       "    <tr>\n",
       "      <th>0</th>\n",
       "      <td>david190</td>\n",
       "      <td>2016-06-02</td>\n",
       "      <td>https://www.ptt.cc/bbs/Stock/M.1464852416.A.66...</td>\n",
       "      <td>由於美國有第三大黨要出候選人 分希拉蕊的票如果剛好就讓 川普當選的話 應該會對美股長期走勢有...</td>\n",
       "      <td>0</td>\n",
       "    </tr>\n",
       "    <tr>\n",
       "      <th>1</th>\n",
       "      <td>Edward</td>\n",
       "      <td>2016-06-06</td>\n",
       "      <td>https://www.ptt.cc/bbs/Stock/M.1465187830.A.E2...</td>\n",
       "      <td>卻時常在鏡頭面前凸搥的川普如果當選美國總統</td>\n",
       "      <td>-1</td>\n",
       "    </tr>\n",
       "    <tr>\n",
       "      <th>2</th>\n",
       "      <td>Edward</td>\n",
       "      <td>2016-06-06</td>\n",
       "      <td>https://www.ptt.cc/bbs/Stock/M.1465187830.A.E2...</td>\n",
       "      <td>桑默斯列舉五大理由解釋為何對川普如此憂心</td>\n",
       "      <td>-1</td>\n",
       "    </tr>\n",
       "    <tr>\n",
       "      <th>3</th>\n",
       "      <td>Edward</td>\n",
       "      <td>2016-06-06</td>\n",
       "      <td>https://www.ptt.cc/bbs/Stock/M.1465187830.A.E2...</td>\n",
       "      <td>當中首要是川普亂無章法的政策風險</td>\n",
       "      <td>-1</td>\n",
       "    </tr>\n",
       "    <tr>\n",
       "      <th>4</th>\n",
       "      <td>Edward</td>\n",
       "      <td>2016-06-06</td>\n",
       "      <td>https://www.ptt.cc/bbs/Stock/M.1465187830.A.E2...</td>\n",
       "      <td>如川普主張的減稅措施預估可能超過十兆美元</td>\n",
       "      <td>0</td>\n",
       "    </tr>\n",
       "  </tbody>\n",
       "</table>\n",
       "</div>"
      ],
      "text/plain": [
       "     author         dt                                               link  \\\n",
       "0  david190 2016-06-02  https://www.ptt.cc/bbs/Stock/M.1464852416.A.66...   \n",
       "1    Edward 2016-06-06  https://www.ptt.cc/bbs/Stock/M.1465187830.A.E2...   \n",
       "2    Edward 2016-06-06  https://www.ptt.cc/bbs/Stock/M.1465187830.A.E2...   \n",
       "3    Edward 2016-06-06  https://www.ptt.cc/bbs/Stock/M.1465187830.A.E2...   \n",
       "4    Edward 2016-06-06  https://www.ptt.cc/bbs/Stock/M.1465187830.A.E2...   \n",
       "\n",
       "                                                line  支持走向  \n",
       "0  由於美國有第三大黨要出候選人 分希拉蕊的票如果剛好就讓 川普當選的話 應該會對美股長期走勢有...     0  \n",
       "1                              卻時常在鏡頭面前凸搥的川普如果當選美國總統    -1  \n",
       "2                               桑默斯列舉五大理由解釋為何對川普如此憂心    -1  \n",
       "3                                   當中首要是川普亂無章法的政策風險    -1  \n",
       "4                               如川普主張的減稅措施預估可能超過十兆美元     0  "
      ]
     },
     "execution_count": 12,
     "metadata": {},
     "output_type": "execute_result"
    }
   ],
   "source": [
    "data = pd.read_excel(\"../data/Trump_Tag.xlsx\")\n",
    "print data.shape\n",
    "data.head()"
   ]
  },
  {
   "cell_type": "code",
   "execution_count": null,
   "metadata": {
    "collapsed": true
   },
   "outputs": [],
   "source": []
  }
 ],
 "metadata": {
  "kernelspec": {
   "display_name": "Python 2",
   "language": "python",
   "name": "python2"
  },
  "language_info": {
   "codemirror_mode": {
    "name": "ipython",
    "version": 2
   },
   "file_extension": ".py",
   "mimetype": "text/x-python",
   "name": "python",
   "nbconvert_exporter": "python",
   "pygments_lexer": "ipython2",
   "version": "2.7.13"
  }
 },
 "nbformat": 4,
 "nbformat_minor": 2
}
